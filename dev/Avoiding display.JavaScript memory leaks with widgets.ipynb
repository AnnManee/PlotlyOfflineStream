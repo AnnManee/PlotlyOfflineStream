{
 "cells": [
  {
   "cell_type": "code",
   "execution_count": null,
   "metadata": {
    "collapsed": true,
    "deletable": true,
    "editable": true
   },
   "outputs": [],
   "source": [
    "from time import sleep\n",
    "from ipywidgets import HTML\n",
    "from traitlets import Unicode, Int"
   ]
  },
  {
   "cell_type": "code",
   "execution_count": null,
   "metadata": {
    "collapsed": false,
    "deletable": true,
    "editable": true
   },
   "outputs": [],
   "source": [
    "%%javascript\n",
    "require.undef(\"updater-widget\");\n",
    "define(\"updater-widget\", [\"jupyter-js-widgets\"], function(widget){\n",
    "    var HelloView = widget.DOMWidgetView.extend({\n",
    "        render: function(){\n",
    "            this.pagetitle = document.createElement(\"h4\");\n",
    "            this.pagetitle.textContent = \"Hello\";\n",
    "            this.el.appendChild(this.pagetitle);\n",
    "        },\n",
    "        update: function(){\n",
    "            this.pagetitle.innerHTML = \"Goodbye \" + this.model.get(\"value\");\n",
    "        }\n",
    "    });\n",
    "    return {HelloView: HelloView}\n",
    "})"
   ]
  },
  {
   "cell_type": "code",
   "execution_count": null,
   "metadata": {
    "collapsed": true,
    "deletable": true,
    "editable": true
   },
   "outputs": [],
   "source": [
    "class UpdaterHTML(HTML):\n",
    "    _view_module = Unicode(\"updater-widget\").tag(sync=True)\n",
    "    _view_name = Unicode(\"HelloView\").tag(sync=True)\n",
    "    value = Int(0).tag(sync=True)"
   ]
  },
  {
   "cell_type": "code",
   "execution_count": null,
   "metadata": {
    "collapsed": false,
    "deletable": true,
    "editable": true
   },
   "outputs": [],
   "source": [
    "updater = UpdaterHTML()\n",
    "updater"
   ]
  },
  {
   "cell_type": "code",
   "execution_count": null,
   "metadata": {
    "collapsed": false,
    "deletable": true,
    "editable": true,
    "scrolled": true
   },
   "outputs": [],
   "source": [
    "while True:\n",
    "    updater.value += 1\n",
    "    sleep(1e-2)"
   ]
  },
  {
   "cell_type": "markdown",
   "metadata": {
    "deletable": true,
    "editable": true
   },
   "source": [
    "# My testing\n",
    "The above are from the Internet. The following are for my own test."
   ]
  },
  {
   "cell_type": "code",
   "execution_count": null,
   "metadata": {
    "collapsed": false,
    "deletable": true,
    "editable": true
   },
   "outputs": [],
   "source": [
    "%%javascript\n",
    "require.undef(\"widget-dynamicJS-exec\");\n",
    "define(\"widget-dynamicJS-exec\", [\"jupyter-js-widgets\"], function(widget){\n",
    "    var HelloView = widget.DOMWidgetView.extend({\n",
    "        render: function(){\n",
    "            this.pagetitle = document.createElement(\"div\");\n",
    "            this.pagetitle.setAttribute('id', this.model.get(\"guid\"));\n",
    "            this.pagetitle.textContent = \"\";\n",
    "            this.pagetitle.appendChild(document.createElement(\"div\"));\n",
    "            this.el.appendChild(this.pagetitle);\n",
    "        },\n",
    "        update: function(){\n",
    "            var container = document.getElementById(this.model.get(\"guid\"));\n",
    "            container.removeChild(container.childNodes[0]);\n",
    "            \n",
    "            var child = document.createElement(\"script\");\n",
    "            child.setAttribute('type', 'text/javascript');\n",
    "            child.textContent = this.model.get(\"value\");\n",
    "            container.appendChild(child);\n",
    "        }\n",
    "    });\n",
    "    return {HelloView: HelloView}\n",
    "})"
   ]
  },
  {
   "cell_type": "code",
   "execution_count": null,
   "metadata": {
    "collapsed": false,
    "deletable": true,
    "editable": true
   },
   "outputs": [],
   "source": [
    "import uuid\n",
    "from ipywidgets import HTML\n",
    "from traitlets import Unicode, Int\n",
    "\n",
    "class UpdaterHTML2(HTML):\n",
    "    _view_module = Unicode(\"widget-dynamicJS-exec\").tag(sync=True)\n",
    "    _view_name = Unicode(\"HelloView\").tag(sync=True)\n",
    "    value = Unicode(\"\").tag(sync=True)\n",
    "    def __init__(self):\n",
    "        super().__init__()\n",
    "        self.guid = uuid.uuid4().hex\n",
    "\n",
    "updater2 = UpdaterHTML2()\n",
    "updater2"
   ]
  },
  {
   "cell_type": "markdown",
   "metadata": {
    "deletable": true,
    "editable": true
   },
   "source": [
    "We then can set updater2.value to SomeJavaScript to trigger SomeJavaScript. Note that putting SomeJavaScript into the innerHTML does not work. That's why I develop this method."
   ]
  },
  {
   "cell_type": "code",
   "execution_count": null,
   "metadata": {
    "collapsed": true,
    "deletable": true,
    "editable": true
   },
   "outputs": [],
   "source": []
  }
 ],
 "metadata": {
  "kernelspec": {
   "display_name": "Python 3",
   "language": "python",
   "name": "python3"
  },
  "language_info": {
   "codemirror_mode": {
    "name": "ipython",
    "version": 3
   },
   "file_extension": ".py",
   "mimetype": "text/x-python",
   "name": "python",
   "nbconvert_exporter": "python",
   "pygments_lexer": "ipython3",
   "version": "3.6.0"
  },
  "widgets": {
   "state": {
    "a8f0238d94a04ed18bd3a62d816a7f06": {
     "views": [
      {
       "cell_index": 4
      }
     ]
    }
   },
   "version": "1.2.0"
  }
 },
 "nbformat": 4,
 "nbformat_minor": 0
}
