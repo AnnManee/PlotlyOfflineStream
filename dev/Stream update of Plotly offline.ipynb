{
 "cells": [
  {
   "cell_type": "markdown",
   "metadata": {
    "deletable": true,
    "editable": true
   },
   "source": [
    "https://plot.ly/ipython-notebooks/\n",
    "\n",
    "https://nbviewer.jupyter.org/gist/bollwyvl/8c484445cbc149325bdc27cfa2482a7f\n",
    "\n",
    "https://github.com/jupyter/help/issues/54#issuecomment-236326113"
   ]
  },
  {
   "cell_type": "code",
   "execution_count": null,
   "metadata": {
    "collapsed": false,
    "deletable": true,
    "editable": true
   },
   "outputs": [],
   "source": [
    "import plotly\n",
    "import plotly.offline\n",
    "import plotly.graph_objs as go\n",
    "plotly.offline.init_notebook_mode()\n",
    "\n",
    "\n",
    "import numpy as np\n",
    "import time"
   ]
  },
  {
   "cell_type": "markdown",
   "metadata": {
    "deletable": true,
    "editable": true
   },
   "source": [
    "## Creating an interactive graph inside IPython notebook"
   ]
  },
  {
   "cell_type": "code",
   "execution_count": null,
   "metadata": {
    "collapsed": true,
    "deletable": true,
    "editable": true
   },
   "outputs": [],
   "source": [
    "import plotly.offline\n",
    "from plotly.graph_objs import *\n",
    "\n",
    "trace0 = Scatter(\n",
    "  x=[1, 2, 3, 4],\n",
    "  y=[10, 15, 13, 17]\n",
    ")\n",
    "trace1 = Scatter(\n",
    "  x=[1, 2, 3, 4],\n",
    "  y=[16, 5, 11, 9]\n",
    ")\n",
    "data = Data([trace0, trace1])"
   ]
  },
  {
   "cell_type": "code",
   "execution_count": null,
   "metadata": {
    "collapsed": false,
    "deletable": true,
    "editable": true
   },
   "outputs": [],
   "source": [
    "#py.iplot(data, filename = 'basic-line')\n",
    "plotly.offline.iplot(data)"
   ]
  },
  {
   "cell_type": "markdown",
   "metadata": {
    "deletable": true,
    "editable": true
   },
   "source": [
    "### my inspection"
   ]
  },
  {
   "cell_type": "code",
   "execution_count": null,
   "metadata": {
    "collapsed": false,
    "deletable": true,
    "editable": true
   },
   "outputs": [],
   "source": [
    "config = {}\n",
    "config['showLink'] = True\n",
    "config['linkText'] = 'Export to plot.ly'\n",
    "\n",
    "plot_html, plotdivid, width, height = plotly.offline.offline._plot_html(\n",
    "    data, config, True, '100%', 525, True\n",
    ")"
   ]
  },
  {
   "cell_type": "code",
   "execution_count": null,
   "metadata": {
    "collapsed": false,
    "deletable": true,
    "editable": true
   },
   "outputs": [],
   "source": [
    "plot_html"
   ]
  },
  {
   "cell_type": "code",
   "execution_count": null,
   "metadata": {
    "collapsed": false,
    "deletable": true,
    "editable": true,
    "scrolled": true
   },
   "outputs": [],
   "source": [
    "plotdivid"
   ]
  },
  {
   "cell_type": "code",
   "execution_count": null,
   "metadata": {
    "collapsed": false,
    "deletable": true,
    "editable": true
   },
   "outputs": [],
   "source": [
    "A = plot_html[:512].split('<script type=\"text/javascript\">')[-1]\n",
    "A += plot_html[512:]\n",
    "B = A[:-9] # get rid of </script>"
   ]
  },
  {
   "cell_type": "code",
   "execution_count": null,
   "metadata": {
    "collapsed": false,
    "deletable": true,
    "editable": true
   },
   "outputs": [],
   "source": [
    "B"
   ]
  },
  {
   "cell_type": "code",
   "execution_count": null,
   "metadata": {
    "collapsed": false,
    "deletable": true,
    "editable": true
   },
   "outputs": [],
   "source": [
    "B.split(str(plotdivid))"
   ]
  },
  {
   "cell_type": "code",
   "execution_count": null,
   "metadata": {
    "collapsed": false,
    "deletable": true,
    "editable": true
   },
   "outputs": [],
   "source": [
    "str(plotdivid).join(B.split(str(plotdivid)))==B"
   ]
  },
  {
   "cell_type": "markdown",
   "metadata": {
    "deletable": true,
    "editable": true
   },
   "source": [
    "# ipywidgets solution to execute JavaScript\n",
    "This is good since the JS to display is on the fly and cleared.\n",
    "\n",
    "Alternatively, each update() [in JavaScript] call in this solution is equivalent to\n",
    "\n",
    "```obj = IPython.display.Javascript(...)\n",
    "IPython.display.display(obj)```"
   ]
  },
  {
   "cell_type": "code",
   "execution_count": null,
   "metadata": {
    "collapsed": false,
    "deletable": true,
    "editable": true
   },
   "outputs": [],
   "source": [
    "from ipywidgets import HTML\n",
    "from traitlets import Unicode, Int\n",
    "\n",
    "gid = '83e52ad0-c854-49a4-8336-4bc892888d79' \n",
    "# this is a hard-coded part that should be integrated later\n",
    "# this gid is of the above <div> in which Plotly draw plots.\n",
    "\n",
    "class UpdaterJS(HTML):\n",
    "    _view_module = Unicode(\"widget-dynamicJS-exec\").tag(sync=True)\n",
    "    _view_name = Unicode(\"HelloView\").tag(sync=True)\n",
    "    value = Unicode(\"\").tag(sync=True)"
   ]
  },
  {
   "cell_type": "raw",
   "metadata": {
    "collapsed": false,
    "deletable": true,
    "editable": true
   },
   "source": [
    "%%javascript\n",
    "require.undef(\"widget-dynamicJS-exec\");\n",
    "define(\"widget-dynamicJS-exec\", [\"jupyter-js-widgets\"], function(widget){\n",
    "    var HelloView = widget.DOMWidgetView.extend({\n",
    "        render: function(){\n",
    "            this.pagetitle = document.createElement(\"div\");\n",
    "            //this.pagetitle.textContent = \"\";\n",
    "            this.pagetitle.appendChild(document.createElement(\"div\")); // dummy child\n",
    "                                                                       // needed because update() removes a child\n",
    "            this.el.appendChild(this.pagetitle);\n",
    "        },\n",
    "        update: function(){\n",
    "            var container = this.pagetitle;\n",
    "            container.removeChild(container.childNodes[0]);\n",
    "            \n",
    "            var child = document.createElement(\"script\");\n",
    "            child.setAttribute('type', 'text/javascript');\n",
    "            child.textContent = this.model.get(\"value\");\n",
    "            container.appendChild(child);\n",
    "        }\n",
    "    });\n",
    "    return {HelloView: HelloView}\n",
    "})"
   ]
  },
  {
   "cell_type": "code",
   "execution_count": null,
   "metadata": {
    "collapsed": false,
    "deletable": true,
    "editable": true
   },
   "outputs": [],
   "source": [
    "import IPython.display\n",
    "obj = IPython.display.Javascript(\n",
    "        'require.undef(\"widget-dynamicJS-exec\");'\n",
    "        'define(\"widget-dynamicJS-exec\", [\"jupyter-js-widgets\"], function(widget){'\n",
    "            'var HelloView = widget.DOMWidgetView.extend({'\n",
    "                'render: function(){'\n",
    "                    'this.pagetitle = document.createElement(\"div\");'\n",
    "                    'this.pagetitle.appendChild(document.createElement(\"div\"));' # dummy child, needed because update() removes a child\n",
    "                    'this.el.appendChild(this.pagetitle);'\n",
    "                '},'\n",
    "                'update: function(){'\n",
    "                    'var container = this.pagetitle;'\n",
    "                    'container.removeChild(container.childNodes[0]);'\n",
    "\n",
    "                    'var child = document.createElement(\"script\");'\n",
    "                    'child.setAttribute(\"type\", \"text/javascript\");'\n",
    "                    'child.textContent = this.model.get(\"value\");'\n",
    "                    'container.appendChild(child);'\n",
    "                '}'\n",
    "            '});'\n",
    "            'return {HelloView: HelloView}'\n",
    "        '})'\n",
    "    )\n",
    "IPython.display.display(obj)"
   ]
  },
  {
   "cell_type": "code",
   "execution_count": null,
   "metadata": {
    "collapsed": false,
    "deletable": true,
    "editable": true
   },
   "outputs": [],
   "source": [
    "updater2 = UpdaterJS()\n",
    "updater2"
   ]
  },
  {
   "cell_type": "markdown",
   "metadata": {
    "deletable": true,
    "editable": true
   },
   "source": [
    "The following string is hard-coded and should be generated by calling a proper Plotly function. The gid in it should also be generated by a aproper call and stored as a variable after this proper call."
   ]
  },
  {
   "cell_type": "code",
   "execution_count": null,
   "metadata": {
    "collapsed": false,
    "deletable": true,
    "editable": true
   },
   "outputs": [],
   "source": [
    "updater2.value = (\"\"\"require([\"plotly\"], function(Plotly) {window.PLOTLYENV=window.PLOTLYENV || {};window.PLOTLYENV.BASE_URL=\"https://plot.ly\";Plotly.newPlot(\\\"\"\"\" + gid + \n",
    "\"\"\"\", [{\"type\": \"scatter\", \"x\": [1, 2, 3, 4], \"y\": [10, 15, 13, 189]}, {\"type\": \"scatter\", \"x\": [1, 2, 3, 4], \"y\": [16, 5, 11, 9]}], {}, {\"showLink\": true, \"linkText\": \"Export to plot.ly\"})});\"\"\")"
   ]
  },
  {
   "cell_type": "code",
   "execution_count": null,
   "metadata": {
    "collapsed": true,
    "deletable": true,
    "editable": true
   },
   "outputs": [],
   "source": []
  }
 ],
 "metadata": {
  "kernelspec": {
   "display_name": "Python 3",
   "language": "python",
   "name": "python3"
  },
  "language_info": {
   "codemirror_mode": {
    "name": "ipython",
    "version": 3
   },
   "file_extension": ".py",
   "mimetype": "text/x-python",
   "name": "python",
   "nbconvert_exporter": "python",
   "pygments_lexer": "ipython3",
   "version": "3.6.0"
  }
 },
 "nbformat": 4,
 "nbformat_minor": 0
}
